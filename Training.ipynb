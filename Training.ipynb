{
 "cells": [
  {
   "cell_type": "code",
   "execution_count": 1,
   "metadata": {
    "collapsed": false,
    "deletable": true,
    "editable": true
   },
   "outputs": [],
   "source": [
    "import tensorflow as tf\n",
    "import numpy as np\n",
    "import models\n",
    "import matplotlib.pyplot as plt"
   ]
  },
  {
   "cell_type": "markdown",
   "metadata": {
    "deletable": true,
    "editable": true
   },
   "source": [
    "# Settings"
   ]
  },
  {
   "cell_type": "code",
   "execution_count": 2,
   "metadata": {
    "collapsed": true,
    "deletable": true,
    "editable": true
   },
   "outputs": [],
   "source": [
    "TRAIN_ID = range(3,11)         # Raw file format : Sample0001.zip - Sample0470.zip\n",
    "VALIDATION_ID = range(471,481)  # Raw file format : Sample0471.zip - Sample0700.zip\n",
    "TEST_ID = range(701,711)        # Raw file format : Sample0701.zip - Sample0941.zip\n",
    "# TRAIN_LIST = range(1,471)         # Raw file format : Sample0001.zip - Sample0470.zip\n",
    "# VALIDATION_LIST = range(471,701)  # Raw file format : Sample0471.zip - Sample0700.zip\n",
    "# TEST_LIST = range(701,941)        # Raw file format : Sample0701.zip - Sample0941.zip\n",
    "\n",
    "IMAGE_SIZE = (320, 320, 3)"
   ]
  },
  {
   "cell_type": "code",
   "execution_count": 3,
   "metadata": {
    "collapsed": true,
    "deletable": true,
    "editable": true
   },
   "outputs": [],
   "source": [
    "TFRecord_DATA_PATH = './tf-data/'"
   ]
  },
  {
   "cell_type": "code",
   "execution_count": 4,
   "metadata": {
    "collapsed": true,
    "deletable": true,
    "editable": true
   },
   "outputs": [],
   "source": [
    "FRAMES_PER_CLIP = 8 \n",
    "MAX_FRAMES = 2000\n",
    "CLIPS_PER_VIDEO = int(MAX_FRAMES / FRAMES_PER_CLIP)\n",
    "\n",
    "'''Self-defined gesture labels'''\n",
    "NO_GESTURE = 21\n",
    "EMPTY_PADDING = 22"
   ]
  },
  {
   "cell_type": "code",
   "execution_count": 5,
   "metadata": {
    "collapsed": false,
    "deletable": true,
    "editable": true
   },
   "outputs": [],
   "source": [
    "'''Training parameters'''\n",
    "NUM_EPOCHS = 1\n",
    "NUM_READ_THREADS = 1\n",
    "BATCH_SIZE = 1\n",
    "QUEUE_CAPACITY = BATCH_SIZE * 2"
   ]
  },
  {
   "cell_type": "markdown",
   "metadata": {
    "deletable": true,
    "editable": true
   },
   "source": [
    "# input Pipeline"
   ]
  },
  {
   "cell_type": "code",
   "execution_count": 6,
   "metadata": {
    "collapsed": false,
    "deletable": true,
    "editable": true
   },
   "outputs": [],
   "source": [
    "def preprocessing_op(image_op):\n",
    "    '''most preprocess should be done while making the .tfrecords files?'''\n",
    "    with tf.name_scope('preprocessing'):\n",
    "        # Reshape serialized image\n",
    "        image_op = tf.reshape(image_op, [FRAMES_PER_CLIP] + list(IMAGE_SIZE))\n",
    "        # Integer to float\n",
    "        image_op = tf.to_float(image_op)\n",
    "        # Normalize (Zero-mean unit-variance) on single image\n",
    "        image_op = tf.map_fn(lambda img: tf.image.per_image_standardization(img), image_op)\n",
    "        \n",
    "        return image_op\n",
    "    \n",
    "def read_and_decode(filename_queue):\n",
    "    readerOptions = tf.python_io.TFRecordOptions(compression_type=tf.python_io.TFRecordCompressionType.GZIP)\n",
    "    reader = tf.TFRecordReader(options=readerOptions)\n",
    "    _, serialized_example = reader.read(filename_queue)\n",
    "    \n",
    "    with tf.name_scope('TFRecordDecoding'):\n",
    "        context_encoded, features_encoded = tf.parse_single_sequence_example(\n",
    "            serialized_example,\n",
    "            context_features={'sample_id': tf.FixedLenFeature([], dtype=tf.int64)},\n",
    "            sequence_features={'rgbs':tf.FixedLenSequenceFeature([],dtype=tf.string), # TODO: check string or bytes\n",
    "                     'labels':tf.FixedLenSequenceFeature([], dtype=tf.int64)} # TODO: check string or bytes\n",
    "        )\n",
    "        seq_rgb = tf.decode_raw(features_encoded['rgbs'], tf.uint8)\n",
    "        seq_label = features_encoded['labels']\n",
    "        print(features_encoded['rgbs'])\n",
    "        print(features_encoded['labels'])\n",
    "        # apply preprocessing to single image using map_fn\n",
    "        seq_rgb = tf.map_fn(lambda x: preprocessing_op(x), elems = seq_rgb, dtype=tf.float32, back_prop=False)\n",
    "        \n",
    "        return [seq_rgb, seq_label]\n",
    "    \n",
    "\n",
    "def input_pipeline(filenames, data_type):\n",
    "    \n",
    "    with tf.name_scope('input_pipeline'):\n",
    "        # Create a input file queue\n",
    "        filename_queue = tf.train.string_input_producer(filenames, num_epochs=NUM_EPOCHS, shuffle=True)\n",
    "        \n",
    "        # Read data from .tfreords files and decode to a list of samples (Using threads)\n",
    "        samples = [read_and_decode(filename_queue) for _ in range(NUM_READ_THREADS)]\n",
    "        \n",
    "        # Create batches\n",
    "        # batch_join is used for N threads, can use batch_join_shuffle too\n",
    "        batch_rgb, batch_labels = tf.train.batch_join(samples, \n",
    "                                                      batch_size = BATCH_SIZE,\n",
    "                                                      capacity = QUEUE_CAPACITY,\n",
    "                                                      shapes = [[CLIPS_PER_VIDEO, FRAMES_PER_CLIP] + list(IMAGE_SIZE), [CLIPS_PER_VIDEO, ]],\n",
    "                                                      enqueue_many= False, \n",
    "                                                      dynamic_pad = False, \n",
    "                                                      name = 'batch_join')\n",
    "        if (data_type == 'Train' or data_type == 'Validation'):\n",
    "            return batch_rgb, batch_labels\n",
    "        else:\n",
    "            return batch_rgb\n"
   ]
  },
  {
   "cell_type": "code",
   "execution_count": 7,
   "metadata": {
    "collapsed": false
   },
   "outputs": [],
   "source": [
    "def look_into_tfRecords(filenames, data_type):\n",
    "    %matplotlib inline\n",
    "    print(filenames)\n",
    "\n",
    "    batch_samples_op, batch_labels_op = input_pipeline(filenames, data_type)\n",
    "\n",
    "    sess = tf.Session()\n",
    "    init_op = tf.group(tf.global_variables_initializer(), tf.local_variables_initializer())\n",
    "    sess.run(init_op)\n",
    "    # Create threads to prefetch the data\n",
    "    coord = tf.train.Coordinator()\n",
    "    threads = tf.train.start_queue_runners(sess=sess, coord=coord)\n",
    "    \n",
    "    batch_samples, batch_labels = sess.run([batch_samples_op, batch_labels_op])\n",
    "    \n",
    "    \n",
    "    # Print \n",
    "    print(\"# Samples: \" + str(len(batch_samples)))\n",
    "    print(\"Sequence labels: \" + str(batch_labels))\n",
    "\n",
    "    # Note that the second dimension will give maximum-length in the batch, i.e., the padded sequence length.\n",
    "    print(\"Sequence type: \" + str(type(batch_samples)))\n",
    "    print(\"Sequence shape: \" + str(batch_samples.shape))\n",
    "\n",
    "    # Fetch first clips 11th frame.\n",
    "    img = batch_samples[0][50][0]\n",
    "    print(\"Image shape: \" + str(img.shape))\n",
    "\n",
    "    plt.figure()\n",
    "    plt.axis(\"off\")\n",
    "    plt.imshow(img) # Note that image may look wierd because it is normalized.\n"
   ]
  },
  {
   "cell_type": "code",
   "execution_count": 8,
   "metadata": {
    "collapsed": false,
    "scrolled": false
   },
   "outputs": [
    {
     "name": "stdout",
     "output_type": "stream",
     "text": [
      "['./tf-data//Test/Sample0701.tfrecords', './tf-data//Test/Sample0702.tfrecords']\n",
      "Tensor(\"input_pipeline/TFRecordDecoding/ParseSingleSequenceExample/ParseSingleSequenceExample:2\", shape=(?,), dtype=string)\n",
      "Tensor(\"input_pipeline/TFRecordDecoding/ParseSingleSequenceExample/ParseSingleSequenceExample:1\", shape=(?,), dtype=int64)\n",
      "# Samples: 1\n",
      "Sequence labels: [[21 21 21 21 21 21 21 21 21 21 21 21 21 21 21 21 21 21 21 21 21 21 21 21\n",
      "  21 21 21 21 21 21 21 21 21 21 21 21 21 21 21 21 21 21 21 21 21 21 21 21\n",
      "  21 21 21 21 21 21 21 21 21 21 21 21 21 21 21 21 21 21 21 21 21 21 21 21\n",
      "  21 21 21 21 21 21 21 21 21 21 21 21 21 21 21 21 21 21 21 21 21 21 21 21\n",
      "  21 21 21 21 21 21 21 21 21 21 21 21 21 21 21 21 21 21 21 21 21 21 21 21\n",
      "  21 21 21 21 21 21 21 21 21 21 21 21 22 22 22 22 22 22 22 22 22 22 22 22\n",
      "  22 22 22 22 22 22 22 22 22 22 22 22 22 22 22 22 22 22 22 22 22 22 22 22\n",
      "  22 22 22 22 22 22 22 22 22 22 22 22 22 22 22 22 22 22 22 22 22 22 22 22\n",
      "  22 22 22 22 22 22 22 22 22 22 22 22 22 22 22 22 22 22 22 22 22 22 22 22\n",
      "  22 22 22 22 22 22 22 22 22 22 22 22 22 22 22 22 22 22 22 22 22 22 22 22\n",
      "  22 22 22 22 22 22 22 22 22 22]]\n",
      "Sequence type: <class 'numpy.ndarray'>\n",
      "Sequence shape: (1, 250, 8, 320, 320, 3)\n",
      "Image shape: (320, 320, 3)\n"
     ]
    },
    {
     "data": {
      "image/png": "[encoded data removed]",
      "text/plain": [
       "<matplotlib.figure.Figure at 0x11822ae80>"
      ]
     },
     "metadata": {},
     "output_type": "display_data"
    }
   ],
   "source": [
    "TRAIN_FILENAMES = ['%s/%s/Sample%04d.tfrecords' % (TFRecord_DATA_PATH, 'Train', i) for i in TRAIN_ID]\n",
    "TEST_FILENAMES = ['%s/%s/Sample%04d.tfrecords' % (TFRecord_DATA_PATH, 'Test', i) for i in TEST_ID]\n",
    "VALIDATION_FILENAMES = ['%s/%s/Sample%04d.tfrecords' % (TFRecord_DATA_PATH, 'Validation', i) for i in VALIDATION_ID]\n",
    "\n",
    "look_into_tfRecords(['%s/%s/Sample%04d.tfrecords' % (TFRecord_DATA_PATH, 'Train', i) for i in range(1,2)], 'Train')\n",
    "# look_into_tfRecords(['%s/%s/Sample%04d.tfrecords' % (TFRecord_DATA_PATH, 'Test', i) for i in range(701,703)], 'Train')\n",
    "#look_into_tfRecords(TRAIN_FILENAMES + VALIDATION_FILENAMES, 'Train')"
   ]
  },
  {
   "cell_type": "markdown",
   "metadata": {
    "deletable": true,
    "editable": true
   },
   "source": [
    "# Create Network"
   ]
  },
  {
   "cell_type": "markdown",
   "metadata": {
    "deletable": true,
    "editable": true
   },
   "source": [
    "### Set up flags"
   ]
  },
  {
   "cell_type": "code",
   "execution_count": 9,
   "metadata": {
    "collapsed": false,
    "deletable": true,
    "editable": true
   },
   "outputs": [
    {
     "ename": "NameError",
     "evalue": "name 'data_split' is not defined",
     "output_type": "error",
     "traceback": [
      "\u001b[0;31m---------------------------------------------------------------------------\u001b[0m",
      "\u001b[0;31mNameError\u001b[0m                                 Traceback (most recent call last)",
      "\u001b[0;32m<ipython-input-9-358b70c3ce3b>\u001b[0m in \u001b[0;36m<module>\u001b[0;34m()\u001b[0m\n\u001b[1;32m      9\u001b[0m \u001b[0mtf\u001b[0m\u001b[0;34m.\u001b[0m\u001b[0mflags\u001b[0m\u001b[0;34m.\u001b[0m\u001b[0mDEFINE_integer\u001b[0m\u001b[0;34m(\u001b[0m\u001b[0;34m\"checkpoint_every_step\"\u001b[0m\u001b[0;34m,\u001b[0m \u001b[0;36m1000\u001b[0m\u001b[0;34m,\u001b[0m \u001b[0;34m\"Save model after this many steps/iterations (i.e., batches) (default: 1000)\"\u001b[0m\u001b[0;34m)\u001b[0m\u001b[0;34m\u001b[0m\u001b[0m\n\u001b[1;32m     10\u001b[0m \u001b[0mtf\u001b[0m\u001b[0;34m.\u001b[0m\u001b[0mflags\u001b[0m\u001b[0;34m.\u001b[0m\u001b[0mDEFINE_string\u001b[0m\u001b[0;34m(\u001b[0m\u001b[0;34m\"log_dir\"\u001b[0m\u001b[0;34m,\u001b[0m \u001b[0;34m\"./runs/\"\u001b[0m\u001b[0;34m,\u001b[0m \u001b[0;34m\"Output directory (default: './runs/')\"\u001b[0m\u001b[0;34m)\u001b[0m\u001b[0;34m\u001b[0m\u001b[0m\n\u001b[0;32m---> 11\u001b[0;31m \u001b[0mtf\u001b[0m\u001b[0;34m.\u001b[0m\u001b[0mflags\u001b[0m\u001b[0;34m.\u001b[0m\u001b[0mDEFINE_integer\u001b[0m\u001b[0;34m(\u001b[0m\u001b[0;34m\"epoch_length\"\u001b[0m\u001b[0;34m,\u001b[0m \u001b[0mint\u001b[0m\u001b[0;34m(\u001b[0m\u001b[0mdata_split\u001b[0m\u001b[0;34m[\u001b[0m\u001b[0;36m0\u001b[0m\u001b[0;34m]\u001b[0m\u001b[0;34m.\u001b[0m\u001b[0mshape\u001b[0m\u001b[0;34m[\u001b[0m\u001b[0;36m0\u001b[0m\u001b[0;34m]\u001b[0m\u001b[0;34m/\u001b[0m\u001b[0mtf\u001b[0m\u001b[0;34m.\u001b[0m\u001b[0mflags\u001b[0m\u001b[0;34m.\u001b[0m\u001b[0mFLAGS\u001b[0m\u001b[0;34m.\u001b[0m\u001b[0mbatch_size\u001b[0m\u001b[0;34m)\u001b[0m\u001b[0;34m,\u001b[0m \u001b[0;34m\"Batch Size (default: 1e-3)\"\u001b[0m\u001b[0;34m)\u001b[0m\u001b[0;34m\u001b[0m\u001b[0m\n\u001b[0m\u001b[1;32m     12\u001b[0m \u001b[0;34m\u001b[0m\u001b[0m\n\u001b[1;32m     13\u001b[0m \u001b[0mFLAGS\u001b[0m \u001b[0;34m=\u001b[0m \u001b[0mtf\u001b[0m\u001b[0;34m.\u001b[0m\u001b[0mflags\u001b[0m\u001b[0;34m.\u001b[0m\u001b[0mFLAGS\u001b[0m\u001b[0;34m\u001b[0m\u001b[0m\n",
      "\u001b[0;31mNameError\u001b[0m: name 'data_split' is not defined"
     ]
    }
   ],
   "source": [
    "# Model Hyperparameters\n",
    "tf.flags.DEFINE_float(\"dropout_rate\", 0.5, \"Dropout rate (default: 0.5)\")\n",
    "# Training Parameters\n",
    "tf.flags.DEFINE_integer(\"learning_rate\", 5e-4, \"Batch Size (default: 1e-3)\")\n",
    "tf.flags.DEFINE_integer(\"batch_size\", 128, \"Batch Size (default: 32)\")\n",
    "tf.flags.DEFINE_integer(\"num_epochs\", 10000, \"Number of full passess over whole training data (default: 100)\")\n",
    "tf.flags.DEFINE_integer(\"print_every_step\", 200, \"Print training details after this many steps/iterations (i.e., batches) (default: 10)\")\n",
    "tf.flags.DEFINE_integer(\"evaluate_every_step\", 1000, \"Evaluate model on validation set after this many steps/iterations (i.e., batches) (default: 500)\")\n",
    "tf.flags.DEFINE_integer(\"checkpoint_every_step\", 1000, \"Save model after this many steps/iterations (i.e., batches) (default: 1000)\")\n",
    "tf.flags.DEFINE_string(\"log_dir\", \"./runs/\", \"Output directory (default: './runs/')\")\n",
    "tf.flags.DEFINE_integer(\"epoch_length\", int(data_split[0].shape[0]/tf.flags.FLAGS.batch_size), \"Batch Size (default: 1e-3)\")\n",
    "\n",
    "FLAGS = tf.flags.FLAGS\n",
    "FLAGS._parse_flags()\n",
    "print(\"\\nCommand-line Arguments:\")\n",
    "for attr, value in sorted(FLAGS.__flags.items()):\n",
    "    print(\"{}={}\".format(attr.upper(), value))\n",
    "print(\"\")"
   ]
  },
  {
   "cell_type": "markdown",
   "metadata": {
    "deletable": true,
    "editable": true
   },
   "source": [
    "### Create Directory for this experiment"
   ]
  },
  {
   "cell_type": "code",
   "execution_count": null,
   "metadata": {
    "collapsed": true,
    "deletable": true,
    "editable": true
   },
   "outputs": [],
   "source": [
    "timestamp = str(int(time.time()))\n",
    "FLAGS.model_dir = os.path.abspath(os.path.join(FLAGS.log_dir, timestamp))\n",
    "print(\"Writing to {}\\n\".format(FLAGS.model_dir))"
   ]
  },
  {
   "cell_type": "markdown",
   "metadata": {
    "deletable": true,
    "editable": true
   },
   "source": [
    "### set up placeholders"
   ]
  },
  {
   "cell_type": "code",
   "execution_count": null,
   "metadata": {
    "collapsed": true,
    "deletable": true,
    "editable": true
   },
   "outputs": [],
   "source": [
    "# Feed a batch of training data at each training step using the {feed_dict} argument in sess.run()\n",
    "input_samples_op = tf.placeholder(tf.float32, shape = [None, CLIPS_PER_VIDEO, FRAMES_PER_CLIP] + IMAGE_SHAPE, name='input_samples')\n",
    "input_labels_op = tf.placeholder(tf.int64, shape=[None, CLIPS_PER_VIDEO, FRAME_PER_CLIP], name='input_labels')\n",
    "\n",
    "mode = tf.placeholder(tf.bool, name='mode') # Pass True in when it is in the trainging mode\n",
    "loss_avg = tf.placeholder(tf.float32, name='loss_avg')\n",
    "accuracy_avg = tf.placeholder(tf.float32, name='accuracy_avg')\n",
    "learning_rate = tf.placeholder(tf.float32, name='learning_rate')\n",
    "\n",
    "# pass in parameters that controls external inputs\n",
    "# Returns 'logits' layer, the top-most layer of the network\n",
    "logits = models.conv_model_with_layers_api(input_samples_op, FLAGS.dropout_rate, mode)\n"
   ]
  },
  {
   "cell_type": "markdown",
   "metadata": {
    "deletable": true,
    "editable": true
   },
   "source": [
    "### Set up Variables"
   ]
  },
  {
   "cell_type": "code",
   "execution_count": null,
   "metadata": {
    "collapsed": true,
    "deletable": true,
    "editable": true
   },
   "outputs": [],
   "source": [
    "# Count number of samples fed and correct predictions made.\n",
    "# Attached to a summary op\n",
    "counter_correct_prediction = tf.Varialbe(0, name='counter_correct_prediction', trainable=False)\n",
    "counter_samples_fed = tf.Variable(0, name='counter_samples_fed', trainable=False)\n",
    "\n",
    "\n",
    "\n",
    "\n",
    "# Loss calculations: cross-entropy\n",
    "# TODO : Change it to CTC loss\n",
    "with tf.name_scope('cross_entropy_loss'):\n",
    "    #loss = tf.reduce_mean(tf.nn.sparse_softmax_cross_entropy_with_logits(logits=logits, labels=input_labels_op))\n",
    "\n",
    "# Accuracy calculations\n",
    "# TODO : Try to get a serialized output\n",
    "with tf.name_scope('accuracy'):\n",
    "    #predictions = tf.argmax(logits, 1, name='predictions')\n",
    "    #predictions = tf.Print(predictions,[predictions])\n",
    "    #correct_predictions = tf.nn.in_top_k(logits, input_labels_op, 1)\n",
    "    #batch_accuracy = tf.reduce_mean(tf.cast(correct_predictions, tf.float32))\n",
    "    #num_correct_predictions = tf.reduce_sum(tf.cast(correct_predictions, tf.int32))\n",
    "    "
   ]
  },
  {
   "cell_type": "code",
   "execution_count": null,
   "metadata": {
    "collapsed": true,
    "deletable": true,
    "editable": true
   },
   "outputs": [],
   "source": [
    "def do_evaluation(sess, samples, labels):\n",
    "    "
   ]
  },
  {
   "cell_type": "code",
   "execution_count": null,
   "metadata": {
    "collapsed": true,
    "deletable": true,
    "editable": true
   },
   "outputs": [],
   "source": [
    "TRAIN_FILENAMES = ['%s/%s/Sample%04d.tfrecords' % (TFRecord_DATA_PATH, 'Train', i) for i in TRAIN_ID]\n",
    "batch_samples_op, batch_labels_op = input_pipeline(TRAIN_FILENAMES, 'Train')\n"
   ]
  },
  {
   "cell_type": "code",
   "execution_count": null,
   "metadata": {
    "collapsed": true,
    "deletable": true,
    "editable": true
   },
   "outputs": [],
   "source": [
    "def do_evaluation(sess, samples, labels):\n",
    "    batches = \n",
    "\n",
    "\n",
    "    def do_evaluation(sess, samples, labels):\n",
    "        '''\n",
    "        Evaluation function.\n",
    "        @param sess: tensorflow session object.\n",
    "        @param samples: input data (numpy tensor)\n",
    "        @param labels: ground-truth labels (numpy array)\n",
    "        '''\n",
    "        batches = utils.data_iterator(samples, labels, FLAGS.batch_size)\n",
    "        # Keep track of this run.\n",
    "        counter_accuracy = 0.0\n",
    "        counter_loss = 0.0\n",
    "        counter_batches = 0\n",
    "        for batch_samples, batch_labels in batches:\n",
    "            counter_batches += 1\n",
    "            feed_dict = {input_samples_op: batch_samples,\n",
    "                         input_label_op: batch_labels,\n",
    "                         mode: False}\n",
    "            results = sess.run([loss, num_correct_predictions], feed_dict=feed_dict)\n",
    "            counter_loss += results[0]\n",
    "            counter_accuracy += results[1]\n",
    "        return (counter_loss/counter_batches, counter_accuracy/(counter_batches*FLAGS.batch_size))\n",
    "\n",
    "    # Generate a variable to contain a counter for the global training step.\n",
    "    # Note that it is useful if you save/restore your network.\n",
    "    global_step = tf.Variable(1, name='global_step', trainable=False)"
   ]
  },
  {
   "cell_type": "code",
   "execution_count": null,
   "metadata": {
    "collapsed": true,
    "deletable": true,
    "editable": true
   },
   "outputs": [],
   "source": []
  },
  {
   "cell_type": "markdown",
   "metadata": {
    "deletable": true,
    "editable": true
   },
   "source": [
    "# Training"
   ]
  }
 ],
 "metadata": {
  "kernelspec": {
   "display_name": "Python 3",
   "language": "python",
   "name": "python3"
  },
  "language_info": {
   "codemirror_mode": {
    "name": "ipython",
    "version": 3
   },
   "file_extension": ".py",
   "mimetype": "text/x-python",
   "name": "python",
   "nbconvert_exporter": "python",
   "pygments_lexer": "ipython3",
   "version": "3.6.0"
  }
 },
 "nbformat": 4,
 "nbformat_minor": 2
}
